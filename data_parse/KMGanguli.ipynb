{
 "cells": [
  {
   "cell_type": "code",
   "execution_count": 139,
   "metadata": {},
   "outputs": [],
   "source": [
    "import os\n",
    "import re\n",
    "from pathlib import Path\n",
    "import pandas as pd\n",
    "import glob\n",
    "import tiktoken\n",
    "import statistics"
   ]
  },
  {
   "cell_type": "markdown",
   "metadata": {},
   "source": [
    "## Directories and files"
   ]
  },
  {
   "cell_type": "code",
   "execution_count": 132,
   "metadata": {},
   "outputs": [],
   "source": [
    "directory = Path(\"../text/KMGanguli\")\n",
    "out_directory = Path(\"../data\")\n",
    "source = \"http://100words.lauragibbs.net/\"\n",
    "file_list = glob.glob(f\"{directory}/*.txt\")\n",
    "file_list.sort()\n"
   ]
  },
  {
   "cell_type": "code",
   "execution_count": 133,
   "metadata": {},
   "outputs": [],
   "source": [
    "rows = []\n",
    "\n",
    "\n",
    "for file in file_list:\n",
    "    book_number = int(file.split(\"/\")[-1].replace(\".txt\", \"\"))\n",
    "    \n",
    "    # print(book_number)\n",
    "    current_section = \"NA\"\n",
    "    current_section_name = \"NA\"\n",
    "    text = \"\"\n",
    "\n",
    "    with open(file) as book:\n",
    "        for line in book:\n",
    "            if line.strip()==\"\":\n",
    "                # print('Row complete')\n",
    "                rows = rows + [{'book_number': book_number, 'section': current_section, 'section_name': current_section_name, 'text': text}]\n",
    "                text = \"\"\n",
    "                continue\n",
    "\n",
    "            if re.match('^(SECTION) .+$', line) or re.match('^\\d+ *$', line):\n",
    "                # print(line)\n",
    "                current_section = line.strip()\n",
    "                current_section_name = \"\"\n",
    "                continue\n",
    "\n",
    "            if re.match(\"^\\(.+(Parva).*\\).*$\",  line, flags=re.DOTALL):\n",
    "                # print(line)\n",
    "                current_section_name = line.strip().replace(\"(\", \"\").replace(\")\", \"\").replace(\"\\n\", \"\")\n",
    "                continue\n",
    "            \n",
    "            text = text + line\n"
   ]
  },
  {
   "cell_type": "code",
   "execution_count": 136,
   "metadata": {},
   "outputs": [],
   "source": [
    "df_kng = pd.DataFrame(rows)\n"
   ]
  },
  {
   "cell_type": "code",
   "execution_count": 140,
   "metadata": {},
   "outputs": [
    {
     "data": {
      "text/plain": [
       "207.2837941628264"
      ]
     },
     "execution_count": 140,
     "metadata": {},
     "output_type": "execute_result"
    }
   ],
   "source": [
    "encoder_name = \"cl100k_base\"\n",
    "encoding = tiktoken.get_encoding(encoder_name)\n",
    "def num_tokens_from_string(string: str) -> int:\n",
    "    \"\"\"Returns the number of tokens in a text string.\"\"\"\n",
    "    encoding = tiktoken.get_encoding(\"cl100k_base\")\n",
    "    num_tokens = len(encoding.encode(string))\n",
    "    return num_tokens\n",
    "\n",
    "## Calculat the text tokens per row\n",
    "df_kng['num_text_tokens'] = df_kng['text'].apply(num_tokens_from_string)\n",
    "\n",
    "statistics.mean(df_kng['num_text_tokens'])"
   ]
  },
  {
   "cell_type": "code",
   "execution_count": 138,
   "metadata": {},
   "outputs": [],
   "source": [
    "df_kng.to_csv(out_directory/\"kn_ganguli_translation.csv\", index=False, sep=\"|\")"
   ]
  },
  {
   "cell_type": "code",
   "execution_count": null,
   "metadata": {},
   "outputs": [],
   "source": []
  }
 ],
 "metadata": {
  "kernelspec": {
   "display_name": "OpenAI@3114",
   "language": "python",
   "name": "python3"
  },
  "language_info": {
   "codemirror_mode": {
    "name": "ipython",
    "version": 3
   },
   "file_extension": ".py",
   "mimetype": "text/x-python",
   "name": "python",
   "nbconvert_exporter": "python",
   "pygments_lexer": "ipython3",
   "version": "3.11.4"
  },
  "orig_nbformat": 4
 },
 "nbformat": 4,
 "nbformat_minor": 2
}
