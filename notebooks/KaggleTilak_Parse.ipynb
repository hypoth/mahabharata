{
 "cells": [
  {
   "cell_type": "code",
   "execution_count": 133,
   "metadata": {},
   "outputs": [],
   "source": [
    "import os\n",
    "import glob\n",
    "import re\n",
    "import statistics\n",
    "from pathlib import Path\n",
    "import pandas as pd\n",
    "import tiktoken\n",
    "\n",
    "directory = Path(\"../text/KaggleTilak\")\n",
    "glossary = directory/'kaggla_tilak_glossary.txt'\n",
    "stories = directory/'kaggle_tilak_mahabharata.txt'"
   ]
  },
  {
   "cell_type": "code",
   "execution_count": 108,
   "metadata": {},
   "outputs": [],
   "source": [
    "directory = Path('../text/KaggleTilak')\n",
    "file = directory/'1-18 books combined.txt'\n"
   ]
  },
  {
   "cell_type": "code",
   "execution_count": 129,
   "metadata": {},
   "outputs": [],
   "source": [
    "\n",
    "\n",
    "encoder_name = \"cl100k_base\"\n",
    "encoding = tiktoken.get_encoding(encoder_name)\n",
    "\n",
    "def num_tokens_from_string(string: str) -> int:\n",
    "    \"\"\"Returns the number of tokens in a text string.\"\"\"\n",
    "    encoding = tiktoken.get_encoding(\"cl100k_base\")\n",
    "    num_tokens = len(encoding.encode(string))\n",
    "    return num_tokens\n",
    "\n",
    "# n_tokens = num_tokens_from_string(string = text, encoding_name = encoder_name)\n",
    "# 0.0001*n_tokens/1000"
   ]
  },
  {
   "cell_type": "code",
   "execution_count": 109,
   "metadata": {},
   "outputs": [],
   "source": [
    "\n",
    "book_text = \"\"\n",
    "current_book = \"NA\"\n",
    "outfile = \"\"\n",
    "book_number = 0\n",
    "\n",
    "with open(file) as books:\n",
    "     for line in books:\n",
    "          ## Match start of a book\n",
    "          if re.match(r\".{1,20}Parva *$\", line):\n",
    "               ## Skip initial empty text\n",
    "               if not (current_book == \"NA\"):\n",
    "                    outfile = directory/f\"books/{book_number}_{current_book.replace(' ', '_')}.txt\"\n",
    "                    outfile.write_text(book_text.strip())\n",
    "\n",
    "               # print(\"Parva\", line)\n",
    "               current_book = line.replace(\"\\n\", \"\").strip()\n",
    "               book_number += 1\n",
    "               book_text = \"\"\n",
    "               continue\n",
    "          book_text = book_text + \"\\n\" + line\n",
    "\n",
    "     ## Last book\n",
    "     outfile = directory/f\"books/{book_number}_{current_book.replace(' ', '_')}.txt\"\n",
    "     outfile.write_text(book_text.strip())\n",
    "\n"
   ]
  },
  {
   "cell_type": "code",
   "execution_count": 164,
   "metadata": {},
   "outputs": [],
   "source": [
    "subdirectory = directory/'books'\n",
    "file_list = glob.glob(f\"{subdirectory}/*.txt\")\n",
    "\n",
    "data = []\n",
    "\n",
    "for file_name in file_list:\n",
    "\n",
    "     file = file_name.split(\"/\")[-1]\n",
    "     book_number = file[:len(file)-4].split('_')[0]\n",
    "     book_name = \" \".join(file[:len(file)-4].split('_')[1:3])\n",
    "\n",
    "     next_line = \"Chapter Heading\"\n",
    "     current_chapter = \"NA\"\n",
    "     commentary = False\n",
    "\n",
    "     with open(file_name) as book:\n",
    "          for line in book:\n",
    "               if not line.strip():\n",
    "                    # print(\"___Empty Line___\")\n",
    "                    continue\n",
    "          \n",
    "               ## Match Chapter\n",
    "               if re.match(r\"^(Chapter) (?!Commentary).* *$\", line):\n",
    "                    # print(\"Chapter\", line)\n",
    "                    current_chapter = line.replace(\"\\n\", \"\").strip()\n",
    "                    commentary = False\n",
    "                    next_line = 'Chapter Heading'\n",
    "                    continue\n",
    "\n",
    "               ## Match chapter heading\n",
    "               if next_line == \"Chapter Heading\":\n",
    "                    # print(\"Chapter Heading ->\", line)\n",
    "                    current_chapter_heading = line\n",
    "                    next_line = \"NA\"\n",
    "                    continue\n",
    "\n",
    "               if re.match(r\"^(Chapter) (Commentary).* *$\", line):\n",
    "                    commentary = True\n",
    "               \n",
    "               data = data + [[book_number, book_name, current_chapter, current_chapter_heading, commentary, line]]\n",
    "\n",
    "\n",
    "df_lines = pd.DataFrame(data, columns=['book_number', 'book_name', 'current_chapter', 'current_chapter_heading', 'commentary', 'text'])\n",
    "df_lines['book_number'] = df_lines['book_number'].astype('int')\n",
    "df_lines['tokens'] = df_lines['text'].apply( num_tokens_from_string )\n",
    "\n",
    "\n",
    "# statistics.mean(df_splits.tokens)"
   ]
  },
  {
   "cell_type": "code",
   "execution_count": 165,
   "metadata": {},
   "outputs": [],
   "source": [
    "\n",
    "df_chapters = df_lines.groupby(\n",
    "    ['book_number', 'book_name', 'current_chapter', 'current_chapter_heading', 'commentary']\n",
    "    ).agg({'text': ' '.join}).reset_index()\n",
    "df_chapters['book_number'] = df_chapters['book_number'].astype('int')\n",
    "df_chapters['tokens'] = df_chapters['text'].apply( num_tokens_from_string )\n"
   ]
  },
  {
   "cell_type": "code",
   "execution_count": 166,
   "metadata": {},
   "outputs": [],
   "source": [
    "df_lines.to_csv(subdirectory/\"complete_text_lines.csv\")\n",
    "df_chapters.to_csv(subdirectory/\"complete_text_chapters.csv\")\n"
   ]
  },
  {
   "cell_type": "code",
   "execution_count": 168,
   "metadata": {},
   "outputs": [
    {
     "data": {
      "text/plain": [
       "2548.2115384615386"
      ]
     },
     "execution_count": 168,
     "metadata": {},
     "output_type": "execute_result"
    }
   ],
   "source": [
    "statistics.mean(df_chapters['tokens'])"
   ]
  },
  {
   "cell_type": "code",
   "execution_count": null,
   "metadata": {},
   "outputs": [],
   "source": []
  }
 ],
 "metadata": {
  "kernelspec": {
   "display_name": "OpenAI@3114",
   "language": "python",
   "name": "python3"
  },
  "language_info": {
   "codemirror_mode": {
    "name": "ipython",
    "version": 3
   },
   "file_extension": ".py",
   "mimetype": "text/x-python",
   "name": "python",
   "nbconvert_exporter": "python",
   "pygments_lexer": "ipython3",
   "version": "3.11.4"
  },
  "orig_nbformat": 4
 },
 "nbformat": 4,
 "nbformat_minor": 2
}
