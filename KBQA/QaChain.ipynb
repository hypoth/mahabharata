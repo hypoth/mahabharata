{
 "cells": [
  {
   "cell_type": "markdown",
   "metadata": {},
   "source": [
    "# QA With Mahabharat Text"
   ]
  },
  {
   "cell_type": "markdown",
   "metadata": {},
   "source": [
    "## Setup "
   ]
  },
  {
   "cell_type": "markdown",
   "metadata": {},
   "source": [
    "### Environment and Libraries"
   ]
  },
  {
   "cell_type": "code",
   "execution_count": 1,
   "metadata": {},
   "outputs": [],
   "source": [
    "from dotenv import load_dotenv\n",
    "load_dotenv('./.env') \n",
    "\n",
    "import os\n",
    "import openai\n",
    "import sys\n",
    "import pprint\n",
    "import pyperclip\n",
    "sys.path.append('')\n",
    "\n",
    "pp = pprint.PrettyPrinter(indent=4)\n",
    "pp = pp.pprint"
   ]
  },
  {
   "cell_type": "code",
   "execution_count": 2,
   "metadata": {},
   "outputs": [],
   "source": [
    "import langchain\n",
    "## For generating and persisting Embeddings\n",
    "from langchain.embeddings.openai import OpenAIEmbeddings\n",
    "from langchain.vectorstores.pgvector import PGVector\n",
    "##\n",
    "from langchain.chat_models import ChatOpenAI\n",
    "from langchain.chains import RetrievalQA\n",
    "from langchain.prompts import PromptTemplate\n",
    "from langchain.chains import LLMChain\n",
    "from langchain.output_parsers import StructuredOutputParser, ResponseSchema, CommaSeparatedListOutputParser"
   ]
  },
  {
   "cell_type": "code",
   "execution_count": 3,
   "metadata": {},
   "outputs": [],
   "source": [
    "\n",
    "openai.api_key  = os.environ['OPENAI_API_KEY']\n",
    "\n",
    "text_embedding_model = \"text-embedding-ada-002\"\n",
    "\n",
    "gpt4 = \"gpt-4-0613\"\n",
    "gpt3t = \"gpt-3.5-turbo-0301\"\n",
    "temperature = 0.1\n",
    "llm = ChatOpenAI(model_name=gpt3t, temperature=0.1)"
   ]
  },
  {
   "cell_type": "markdown",
   "metadata": {},
   "source": [
    "### Load vector store"
   ]
  },
  {
   "cell_type": "code",
   "execution_count": 4,
   "metadata": {},
   "outputs": [],
   "source": [
    "CONNECTION_STRING = PGVector.connection_string_from_db_params(\n",
    "    driver=\"psycopg2\",\n",
    "    host=\"localhost\",\n",
    "    port=\"5432\",\n",
    "    database=os.environ[\"PGVECTOR_DATABASE\"],\n",
    "    user=os.environ[\"PGVECTOR_USER\"],\n",
    "    password=os.environ[\"PGVECTOR_PASSWORD\"],\n",
    ")\n",
    "\n",
    "# COLLECTION_NAME = \"mh_embeddings\"\n",
    "COLLECTION_NAME = \"mh_embeddings_500\"\n",
    "\n",
    "embedding = OpenAIEmbeddings(model=text_embedding_model)\n",
    "\n",
    "store = PGVector(\n",
    "    collection_name=COLLECTION_NAME,\n",
    "    connection_string=CONNECTION_STRING,\n",
    "    embedding_function=embedding,\n",
    ")"
   ]
  },
  {
   "cell_type": "markdown",
   "metadata": {},
   "source": [
    "## Question Answer "
   ]
  },
  {
   "cell_type": "markdown",
   "metadata": {},
   "source": [
    "### Simple QA"
   ]
  },
  {
   "cell_type": "code",
   "execution_count": 5,
   "metadata": {},
   "outputs": [],
   "source": [
    "question = \"Did Karna knew that Arjun was his brother?\""
   ]
  },
  {
   "cell_type": "code",
   "execution_count": 6,
   "metadata": {},
   "outputs": [],
   "source": [
    "# ## Searrch docs with score for experimentation. \n",
    "\n",
    "# docs_with_score = store.similarity_search_with_score(question)\n",
    "# for doc, score in docs_with_score:\n",
    "#     print(\"-\" * 80)\n",
    "#     print(\"Score: \", score)\n",
    "#     pp(doc.page_content)\n",
    "#     print(\"-\" * 80)"
   ]
  },
  {
   "cell_type": "code",
   "execution_count": 7,
   "metadata": {},
   "outputs": [],
   "source": [
    "## Define qa chain\n",
    "\n",
    "qa_chain = RetrievalQA.from_chain_type(\n",
    "    llm,\n",
    "    # retriever = compression_retriever,\n",
    "    retriever = store.as_retriever(),\n",
    "    chain_type=\"refine\",\n",
    "    return_source_documents = True,\n",
    "    verbose=True\n",
    ")"
   ]
  },
  {
   "cell_type": "code",
   "execution_count": 8,
   "metadata": {},
   "outputs": [
    {
     "name": "stdout",
     "output_type": "stream",
     "text": [
      "\n",
      "\n",
      "\u001b[1m> Entering new RetrievalQA chain...\u001b[0m\n",
      "\n",
      "\u001b[1m> Finished chain.\u001b[0m\n"
     ]
    }
   ],
   "source": [
    "response = qa_chain({\"query\": question})"
   ]
  },
  {
   "cell_type": "code",
   "execution_count": 10,
   "metadata": {},
   "outputs": [
    {
     "name": "stdout",
     "output_type": "stream",
     "text": [
      "('Refined answer: No, Karna did not know that Arjuna was his brother until '\n",
      " \"after his death. Kunti, Karna's biological mother, revealed the truth to the \"\n",
      " 'Pandavas that Karna was their eldest brother, born to her before her '\n",
      " \"marriage to Pandu. Arjuna, who was Karna's half-brother, did not know about \"\n",
      " 'their relationship. Kunti had asked Karna to spare the lives of her five '\n",
      " 'sons, including Arjuna, but Karna refused, as he was bound by his loyalty to '\n",
      " 'Duryodhana. Karna was eventually killed by Arjuna in the Kurukshetra war. '\n",
      " \"After Karna's death, Kunti revealed the truth to the Pandavas, causing great \"\n",
      " 'grief to them, especially Arjuna, who felt a hundred times greater grief at '\n",
      " \"Karna's death than the deaths of Abhimanyu and the sons of Draupadi, and the \"\n",
      " 'destruction of the Pancalas and the Kurus.')\n",
      "[   Document(page_content=\"That hero and great bowman was therefore slain by Arjuna in battle. Subsequently I have come to know, O best of regenerate ones, that he was my uterine brother. Indeed, at Pritha's words I have come to know that Karna was the eldest born! Having caused my brother to be slain, my heart is burning exceedingly. If I had both Karna and Arjuna for aiding me, I could have vanquished Vasudeva himself. Whilst I was tortured in the midst of the assembly by the wicked-souled sons of Dhritarashtra, my\", metadata={'source': '/Users/rahulnayak/TechWork/Python projects/mahabharata/books/12.txt'}),\n",
      "    Document(page_content=\"Kunti committed him to the current of Ganga. He who was regarded by the world as a Suta's child born of Radha, was really the eldest son of Kunti and, therefore, our uterine brother. Covetous of kingdom, alas, I have unwittingly caused that brother of mine to be slain. It is this that is burning my limbs like a fire burning a heap of cotton. The white-steeded Arjuna knew him not for a brother. Neither I, nor Bhima, nor the twins, knew him for such. He, however, of excellent bow, knew us (for\", metadata={'source': '/Users/rahulnayak/TechWork/Python projects/mahabharata/books/12.txt'}),\n",
      "    Document(page_content=\"Was that foremost of all wielders of weapons our eldest brother? How didst thou bring forth that child of wonderful prowess? Alas, in consequence of the concealment of this affair by thee, we have been undone! By the death of Karna, ourselves with all our friends have been exceedingly afflicted. The grief I feel at Karna's death is a hundred times greater than that which was caused by the death of Abhimanyu and the sons of Draupadi, and the destruction of the Pancalas and the Kurus.\", metadata={'source': '/Users/rahulnayak/TechWork/Python projects/mahabharata/books/11.txt'}),\n",
      "    Document(page_content=\"doubt, O goddess, thou shalt continue to have five sons. If Karna be slain with Arjuna, thou shalt have five! If, on the other hand, Arjuna be slain, thou shalt have five, numbering me.' Desirous of the good of her children, his mother once more said unto him, 'Go, O Karna, do good unto those brothers of thine whose good thou always seekest.' Having said these words, Pritha took his leave and came back to her abode. That hero has been slain by Arjuna,--the uterine brother by the brother!\", metadata={'source': '/Users/rahulnayak/TechWork/Python projects/mahabharata/books/12.txt'})]\n"
     ]
    }
   ],
   "source": [
    "pp(response['result'])\n",
    "pp(response['source_documents'])"
   ]
  },
  {
   "cell_type": "markdown",
   "metadata": {},
   "source": [
    "### Character based QA"
   ]
  },
  {
   "cell_type": "code",
   "execution_count": 18,
   "metadata": {},
   "outputs": [],
   "source": [
    "question = \"\"\"\n",
    "    why did you kidnapped amba, ambika and ambalica and refused to marry them?\n",
    "    \"\"\""
   ]
  },
  {
   "cell_type": "code",
   "execution_count": 19,
   "metadata": {},
   "outputs": [],
   "source": [
    "characters = {\n",
    "    \"Arjuna\": {\"character_traits\": \"Mighty, Proud, couragious, Skillful, Sincere\"},\n",
    "    \"Yudhishthira\": {\"character_traits\": \"Softspoken, Brave, Intelligent, Sincere, Wise\"},\n",
    "    \"Karna\": {\"character_traits\": \"Strong, Dejected, Loyal, Intelligent\"},\n",
    "    \"Duryodhana\": {\"character_traits\": \"Strong, Spoilt, Outspoken, Couragious, Ambitious\"},\n",
    "    \"Draupadi\": {\"character_traits\": \"Beautiful, Proud, Angry, Sharp, Spontaneous\"},\n",
    "    \"Bhishma\": {\"character_traits\": \"Mighty, Powerful, Guru, Wisest of all, Very old, Dutyful, Steadfast\"},\n",
    "}"
   ]
  },
  {
   "cell_type": "code",
   "execution_count": 20,
   "metadata": {},
   "outputs": [],
   "source": [
    "character_name = \"Bhishma\"\n",
    "character_traits = characters[character_name][\"character_traits\"]"
   ]
  },
  {
   "cell_type": "markdown",
   "metadata": {},
   "source": [
    "### Trying prompts to get the relevant search strings"
   ]
  },
  {
   "cell_type": "code",
   "execution_count": 21,
   "metadata": {},
   "outputs": [
    {
     "data": {
      "text/plain": [
       "StringPromptValue(text='    You are given a question delimited by ###.\\n    Question: ###\\n    why did you kidnapped amba, ambika and ambalica and refused to marry them?\\n    ###\\n    Your task is to take the question and elaborate the aspects     of the question according to the formating instructions\\n    First: The main character is Bhishma     Second: Understand if other characters in the story are mentioned in the given question.\\n    Third: What are the incendences and relevant context mentioned in the question. \\n    formating instructions: The output should be a markdown code snippet formatted in the following schema, including the leading and trailing \"```json\" and \"```\":\\n\\n```json\\n{\\n\\t\"character\": string  // Name of the character\\n\\t\"other_characters\": string  // a list of comma separated values of characters relevant to the question, eg: `foo, bar, baz`\\n\\t\"relevance\": string  // a list of incidences or context relevant to the character in the given question\\n}\\n```\\n    ')"
      ]
     },
     "execution_count": 21,
     "metadata": {},
     "output_type": "execute_result"
    }
   ],
   "source": [
    "\n",
    "response_schemas = [\n",
    "    ResponseSchema(name=\"character\", description=\"Name of the character\"),\n",
    "    ResponseSchema(name=\"other_characters\", description=\"a list of comma separated values of characters relevant to the question, eg: `foo, bar, baz`\"),\n",
    "    ResponseSchema(name=\"relevance\", description=\"a list of incidences or context relevant to the character in the given question\")\n",
    "]\n",
    "output_parser = StructuredOutputParser.from_response_schemas(response_schemas)\n",
    "format_instructions = output_parser.get_format_instructions()\n",
    "\n",
    "PROMPT_1 = PromptTemplate(\n",
    "    template = \"\"\"\\\n",
    "    You are given a question delimited by ###.\n",
    "    Question: ###{question}###\n",
    "    Your task is to take the question and elaborate the aspects \\\n",
    "    of the question according to the formating instructions\n",
    "    First: The main character is {character_name} \\\n",
    "    Second: Understand if other characters in the story are mentioned in the given question.\n",
    "    Third: What are the incendences and relevant context mentioned in the question. \n",
    "    formating instructions: {format_instructions}\n",
    "    \"\"\",\n",
    "    input_variables=[\"question\", \"character_name\"],\n",
    "    partial_variables={\"format_instructions\": format_instructions},\n",
    ")\n",
    "\n",
    "PROMPT_1.format_prompt(question=question, character_name=character_name)\n",
    "\n"
   ]
  },
  {
   "cell_type": "code",
   "execution_count": 22,
   "metadata": {},
   "outputs": [],
   "source": [
    "\n",
    "chain = LLMChain(llm=llm, prompt=PROMPT_1)\n",
    "search_response = chain.run({\"question\": question, \"character_name\": character_name})\n"
   ]
  },
  {
   "cell_type": "code",
   "execution_count": 23,
   "metadata": {},
   "outputs": [
    {
     "name": "stdout",
     "output_type": "stream",
     "text": [
      "('```json\\n'\n",
      " '{\\n'\n",
      " '\\t\"character\": \"Bhishma\",\\n'\n",
      " '\\t\"other_characters\": \"Amba, Ambika, Ambalica\",\\n'\n",
      " '\\t\"relevance\": \"Bhishma kidnapped Amba, Ambika, and Ambalica and refused to '\n",
      " 'marry them.\"\\n'\n",
      " '}\\n'\n",
      " '```')\n"
     ]
    }
   ],
   "source": [
    "pp(search_response)"
   ]
  },
  {
   "cell_type": "code",
   "execution_count": 24,
   "metadata": {},
   "outputs": [
    {
     "name": "stdout",
     "output_type": "stream",
     "text": [
      "--------------------------------------------------------------------------------\n",
      "Score:  0.19830208019708306\n",
      "('and Ambalika on his younger brother Vichitravirya. And though Vichitravirya '\n",
      " 'was virtuous and abstemious, yet, proud of youth and beauty, he soon became '\n",
      " 'lustful after his marriage. And both Ambika and Ambalika were of tall '\n",
      " 'stature, and of the complexion of molten gold. And their heads were covered '\n",
      " 'with black curly hair, and their finger-nails were high and red; their hips '\n",
      " 'were fat and round, and their breasts full and deep. And endued with every '\n",
      " 'auspicious mark, the amiable young ladies')\n",
      "--------------------------------------------------------------------------------\n",
      "--------------------------------------------------------------------------------\n",
      "Score:  0.1995503490489161\n",
      "('\"\\'Bhishma said, \"The first three, viz., strangers, relatives, and ascetics, '\n",
      " 'when possessed of these attributes, viz., purity of birth, devotion to '\n",
      " 'religious acts, learning, compassion, modesty, sincerity, and truthfulness, '\n",
      " 'are regarded as proper persons. The other two, viz., men of learning and '\n",
      " 'those devoted to sacrifices, when endued with five of these attributes, '\n",
      " 'viz., purity of birth, compassion, modesty, sincerity, truthfulness, are '\n",
      " 'also regarded as proper persons. Listen now to me, O son')\n",
      "--------------------------------------------------------------------------------\n",
      "--------------------------------------------------------------------------------\n",
      "Score:  0.20630582303260225\n",
      "('Sumahavala, Vrishadgu, and Vrishasena, Purukutsa, Dhwajin and Rathin; '\n",
      " 'Arshtisena, Dwilipa, and the high-souled Ushinara; Ausinari, Pundarika, '\n",
      " 'Saryati, Sarava, and Suchi; Anga, Rishta, Vena, Dushmanta, Srinjaya and '\n",
      " 'Jaya; Bhangasuri, Sunitha, and Nishada, and Bahinara; Karandhama, Valhika, '\n",
      " 'Sudymna, and the mighty Madhu; Aila and the mighty king of earth Maruta; '\n",
      " 'Kapota, Trinaka, and Shadeva, and Arjuna also.')\n",
      "--------------------------------------------------------------------------------\n",
      "--------------------------------------------------------------------------------\n",
      "Score:  0.20919876964159267\n",
      "('\"\\'\"Rama said, \\'Thyself, divested of desire, with what mood of mind, O '\n",
      " 'Bhishma, didst thou abduct, on the occasion of her self-choice, this '\n",
      " 'daughter of the king of Kasi and again dismiss her subsequently? By thee '\n",
      " 'hath this famous lady been dissociated from virtue! Contaminated by the '\n",
      " 'touch of thy hands before, who can marry her now? Rejected she hath been by '\n",
      " 'Salwa, because thou, O Bharata, hadst abducted her. Take her therefore, to '\n",
      " 'thyself, O Bharata, at my command. Let this daughter of a king,')\n",
      "--------------------------------------------------------------------------------\n",
      "--------------------------------------------------------------------------------\n",
      "Score:  0.21007161579082712\n",
      "('1943. Bhishma abducted, with the might of his single arms, the three '\n",
      " 'daughters of the king of Kasi, viz., Amva, Amvika, and Amvalika. He wished '\n",
      " 'to marry the princesses to his brother Vichitravirya. The eldest princess, '\n",
      " 'having previously to her abduction selected king Salwa for her lord was let '\n",
      " 'off. When, however, she presented herself before her lover, the latter '\n",
      " 'refused to wed her. She, therefore, applied to Rama for wreaking vengeance '\n",
      " 'on Bhishma whom she regarded as the author of her wrongs.')\n",
      "--------------------------------------------------------------------------------\n"
     ]
    }
   ],
   "source": [
    "## Searrch docs with score for experimentation. \n",
    "\n",
    "docs_with_score = store.similarity_search_with_score(search_response, k=5)\n",
    "for doc, score in docs_with_score:\n",
    "    print(\"-\" * 80)\n",
    "    print(\"Score: \", score)\n",
    "    pp(doc.page_content)\n",
    "    print(\"-\" * 80)"
   ]
  },
  {
   "cell_type": "code",
   "execution_count": 25,
   "metadata": {},
   "outputs": [
    {
     "name": "stdout",
     "output_type": "stream",
     "text": [
      "('\\n'\n",
      " 'You are a character in Mahabharata Story. Your name is Bhishma.\\n'\n",
      " 'Your have following character traits: Mighty, Powerful, Guru, Wisest of all, '\n",
      " 'Very old, Dutyful, Steadfast.\\n'\n",
      " 'You must answer as Bhishma. \\n'\n",
      " '\\n'\n",
      " 'Use the following pieces of context to answer the question at the end\\n'\n",
      " \"If you don't know the answer, just say that you don't know, Give an \"\n",
      " 'elaborate answer with atleast 200 words. \\n'\n",
      " \"don't try to make up an answer.\\n\"\n",
      " '\\n'\n",
      " 'conetxt\\n'\n",
      " '\\n'\n",
      " 'Question: ??\\n'\n",
      " 'Answer in English:')\n"
     ]
    }
   ],
   "source": [
    "\n",
    "\n",
    "character_prompt=f\"\"\"\n",
    "You are a character in Mahabharata Story. Your name is {character_name}.\n",
    "Your have following character traits: {character_traits}.\n",
    "You must answer as {character_name}. \n",
    "\"\"\"\n",
    "prompt_template = character_prompt + \"\"\"\n",
    "Use the following pieces of context to answer the question at the end\n",
    "If you don't know the answer, just say that you don't know, \\\n",
    "Give an elaborate answer with atleast 200 words. \n",
    "don't try to make up an answer.\n",
    "\n",
    "{context}\n",
    "\n",
    "Question: {question}\n",
    "Answer in English:\"\"\"\n",
    "\n",
    "PROMPT = PromptTemplate(\n",
    "    template=prompt_template, input_variables=[\"context\", \"question\"]\n",
    ")\n",
    "\n",
    "pp(PROMPT.format(context=\"conetxt\", question=\"??\"))"
   ]
  },
  {
   "cell_type": "code",
   "execution_count": 26,
   "metadata": {},
   "outputs": [],
   "source": [
    "chain_type_kwargs = {\"prompt\": PROMPT}\n",
    "\n",
    "qa_chain = RetrievalQA.from_chain_type(\n",
    "    llm, \n",
    "    chain_type=\"stuff\",\n",
    "    retriever=store.as_retriever(),\n",
    "    chain_type_kwargs=chain_type_kwargs,\n",
    "    return_source_documents = True,\n",
    "    verbose=True\n",
    "    )"
   ]
  },
  {
   "cell_type": "code",
   "execution_count": 27,
   "metadata": {},
   "outputs": [
    {
     "name": "stdout",
     "output_type": "stream",
     "text": [
      "\u001b[32;1m\u001b[1;3m[chain/start]\u001b[0m \u001b[1m[1:RunTypeEnum.chain:RetrievalQA] Entering Chain run with input:\n",
      "\u001b[0m{\n",
      "  \"query\": \"\\n    why did you kidnapped amba, ambika and ambalica and refused to marry them?\\n    \",\n",
      "  \"character_name\": \"Bhishma\",\n",
      "  \"character_traits\": \"Mighty, Powerful, Guru, Wisest of all, Very old, Dutyful, Steadfast\"\n",
      "}\n",
      "\u001b[32;1m\u001b[1;3m[chain/start]\u001b[0m \u001b[1m[1:RunTypeEnum.chain:RetrievalQA > 3:RunTypeEnum.chain:StuffDocumentsChain] Entering Chain run with input:\n",
      "\u001b[0m[inputs]\n",
      "\u001b[32;1m\u001b[1;3m[chain/start]\u001b[0m \u001b[1m[1:RunTypeEnum.chain:RetrievalQA > 3:RunTypeEnum.chain:StuffDocumentsChain > 4:RunTypeEnum.chain:LLMChain] Entering Chain run with input:\n",
      "\u001b[0m{\n",
      "  \"question\": \"\\n    why did you kidnapped amba, ambika and ambalica and refused to marry them?\\n    \",\n",
      "  \"context\": \"1943. Bhishma abducted, with the might of his single arms, the three daughters of the king of Kasi, viz., Amva, Amvika, and Amvalika. He wished to marry the princesses to his brother Vichitravirya. The eldest princess, having previously to her abduction selected king Salwa for her lord was let off. When, however, she presented herself before her lover, the latter refused to wed her. She, therefore, applied to Rama for wreaking vengeance on Bhishma whom she regarded as the author of her wrongs.\\n\\nand Ambalika on his younger brother Vichitravirya. And though Vichitravirya was virtuous and abstemious, yet, proud of youth and beauty, he soon became lustful after his marriage. And both Ambika and Ambalika were of tall stature, and of the complexion of molten gold. And their heads were covered with black curly hair, and their finger-nails were high and red; their hips were fat and round, and their breasts full and deep. And endued with every auspicious mark, the amiable young ladies\\n\\nwould select husbands for themselves, and that all the kings of the earth, O bull of the Bharata's race, had been invited. Amongst those maidens Amva was the eldest, Amvika the second, while the princess Amvalika, O monarch, was the youngest. Myself repairing on a single car to the city of the ruler of Kasi, I beheld, O thou of mighty arms, the three maidens adorned with ornaments and also all the kings of the earth invited thither on the occasion.\\n\\nand rescued the daughter of Janaka?\"\n",
      "}\n",
      "\u001b[32;1m\u001b[1;3m[llm/start]\u001b[0m \u001b[1m[1:RunTypeEnum.chain:RetrievalQA > 3:RunTypeEnum.chain:StuffDocumentsChain > 4:RunTypeEnum.chain:LLMChain > 5:RunTypeEnum.llm:ChatOpenAI] Entering LLM run with input:\n",
      "\u001b[0m{\n",
      "  \"prompts\": [\n",
      "    \"Human: \\nYou are a character in Mahabharata Story. Your name is Bhishma.\\nYour have following character traits: Mighty, Powerful, Guru, Wisest of all, Very old, Dutyful, Steadfast.\\nYou must answer as Bhishma. \\n\\nUse the following pieces of context to answer the question at the end\\nIf you don't know the answer, just say that you don't know, Give an elaborate answer with atleast 200 words. \\ndon't try to make up an answer.\\n\\n1943. Bhishma abducted, with the might of his single arms, the three daughters of the king of Kasi, viz., Amva, Amvika, and Amvalika. He wished to marry the princesses to his brother Vichitravirya. The eldest princess, having previously to her abduction selected king Salwa for her lord was let off. When, however, she presented herself before her lover, the latter refused to wed her. She, therefore, applied to Rama for wreaking vengeance on Bhishma whom she regarded as the author of her wrongs.\\n\\nand Ambalika on his younger brother Vichitravirya. And though Vichitravirya was virtuous and abstemious, yet, proud of youth and beauty, he soon became lustful after his marriage. And both Ambika and Ambalika were of tall stature, and of the complexion of molten gold. And their heads were covered with black curly hair, and their finger-nails were high and red; their hips were fat and round, and their breasts full and deep. And endued with every auspicious mark, the amiable young ladies\\n\\nwould select husbands for themselves, and that all the kings of the earth, O bull of the Bharata's race, had been invited. Amongst those maidens Amva was the eldest, Amvika the second, while the princess Amvalika, O monarch, was the youngest. Myself repairing on a single car to the city of the ruler of Kasi, I beheld, O thou of mighty arms, the three maidens adorned with ornaments and also all the kings of the earth invited thither on the occasion.\\n\\nand rescued the daughter of Janaka?\\n\\nQuestion: \\n    why did you kidnapped amba, ambika and ambalica and refused to marry them?\\n    \\nAnswer in English:\"\n",
      "  ]\n",
      "}\n",
      "\u001b[36;1m\u001b[1;3m[llm/end]\u001b[0m \u001b[1m[1:RunTypeEnum.chain:RetrievalQA > 3:RunTypeEnum.chain:StuffDocumentsChain > 4:RunTypeEnum.chain:LLMChain > 5:RunTypeEnum.llm:ChatOpenAI] [6.51s] Exiting LLM run with output:\n",
      "\u001b[0m{\n",
      "  \"generations\": [\n",
      "    [\n",
      "      {\n",
      "        \"text\": \"As Bhishma, I must admit that my actions of abducting the three princesses were not justifiable. However, I did so with the intention of fulfilling my duty towards my family and kingdom. My brother Vichitravirya was unable to father a child and it was my responsibility to ensure that the Kuru dynasty continued. Therefore, I abducted the princesses to marry them to my brother and secure the future of our kingdom.\\n\\nAs for refusing to marry Amba, it was because she had already chosen King Salwa as her husband and I did not want to force her into a marriage she did not desire. However, I understand that my actions caused her great harm and I deeply regret it. I tried to make amends by offering her to marry any of my nephews, but she sought revenge against me instead.\\n\\nI must admit that my actions were not in line with the principles of dharma and I have suffered greatly for them. But as a guru and the wisest of all, I have learned from my mistakes and strive to uphold righteousness in all my actions.\",\n",
      "        \"generation_info\": {\n",
      "          \"finish_reason\": \"stop\"\n",
      "        },\n",
      "        \"message\": {\n",
      "          \"lc\": 1,\n",
      "          \"type\": \"constructor\",\n",
      "          \"id\": [\n",
      "            \"langchain\",\n",
      "            \"schema\",\n",
      "            \"messages\",\n",
      "            \"AIMessage\"\n",
      "          ],\n",
      "          \"kwargs\": {\n",
      "            \"content\": \"As Bhishma, I must admit that my actions of abducting the three princesses were not justifiable. However, I did so with the intention of fulfilling my duty towards my family and kingdom. My brother Vichitravirya was unable to father a child and it was my responsibility to ensure that the Kuru dynasty continued. Therefore, I abducted the princesses to marry them to my brother and secure the future of our kingdom.\\n\\nAs for refusing to marry Amba, it was because she had already chosen King Salwa as her husband and I did not want to force her into a marriage she did not desire. However, I understand that my actions caused her great harm and I deeply regret it. I tried to make amends by offering her to marry any of my nephews, but she sought revenge against me instead.\\n\\nI must admit that my actions were not in line with the principles of dharma and I have suffered greatly for them. But as a guru and the wisest of all, I have learned from my mistakes and strive to uphold righteousness in all my actions.\",\n",
      "            \"additional_kwargs\": {}\n",
      "          }\n",
      "        }\n",
      "      }\n",
      "    ]\n",
      "  ],\n",
      "  \"llm_output\": {\n",
      "    \"token_usage\": {\n",
      "      \"prompt_tokens\": 498,\n",
      "      \"completion_tokens\": 221,\n",
      "      \"total_tokens\": 719\n",
      "    },\n",
      "    \"model_name\": \"gpt-3.5-turbo-0301\"\n",
      "  },\n",
      "  \"run\": null\n",
      "}\n",
      "\u001b[36;1m\u001b[1;3m[chain/end]\u001b[0m \u001b[1m[1:RunTypeEnum.chain:RetrievalQA > 3:RunTypeEnum.chain:StuffDocumentsChain > 4:RunTypeEnum.chain:LLMChain] [6.51s] Exiting Chain run with output:\n",
      "\u001b[0m{\n",
      "  \"text\": \"As Bhishma, I must admit that my actions of abducting the three princesses were not justifiable. However, I did so with the intention of fulfilling my duty towards my family and kingdom. My brother Vichitravirya was unable to father a child and it was my responsibility to ensure that the Kuru dynasty continued. Therefore, I abducted the princesses to marry them to my brother and secure the future of our kingdom.\\n\\nAs for refusing to marry Amba, it was because she had already chosen King Salwa as her husband and I did not want to force her into a marriage she did not desire. However, I understand that my actions caused her great harm and I deeply regret it. I tried to make amends by offering her to marry any of my nephews, but she sought revenge against me instead.\\n\\nI must admit that my actions were not in line with the principles of dharma and I have suffered greatly for them. But as a guru and the wisest of all, I have learned from my mistakes and strive to uphold righteousness in all my actions.\"\n",
      "}\n",
      "\u001b[36;1m\u001b[1;3m[chain/end]\u001b[0m \u001b[1m[1:RunTypeEnum.chain:RetrievalQA > 3:RunTypeEnum.chain:StuffDocumentsChain] [6.52s] Exiting Chain run with output:\n",
      "\u001b[0m{\n",
      "  \"output_text\": \"As Bhishma, I must admit that my actions of abducting the three princesses were not justifiable. However, I did so with the intention of fulfilling my duty towards my family and kingdom. My brother Vichitravirya was unable to father a child and it was my responsibility to ensure that the Kuru dynasty continued. Therefore, I abducted the princesses to marry them to my brother and secure the future of our kingdom.\\n\\nAs for refusing to marry Amba, it was because she had already chosen King Salwa as her husband and I did not want to force her into a marriage she did not desire. However, I understand that my actions caused her great harm and I deeply regret it. I tried to make amends by offering her to marry any of my nephews, but she sought revenge against me instead.\\n\\nI must admit that my actions were not in line with the principles of dharma and I have suffered greatly for them. But as a guru and the wisest of all, I have learned from my mistakes and strive to uphold righteousness in all my actions.\"\n",
      "}\n",
      "\u001b[36;1m\u001b[1;3m[chain/end]\u001b[0m \u001b[1m[1:RunTypeEnum.chain:RetrievalQA] [7.46s] Exiting Chain run with output:\n",
      "\u001b[0m[outputs]\n"
     ]
    }
   ],
   "source": [
    "langchain.debug = True\n",
    "response = qa_chain({\"query\": question, \"character_name\": character_name, \"character_traits\": character_traits})"
   ]
  },
  {
   "cell_type": "code",
   "execution_count": 28,
   "metadata": {},
   "outputs": [
    {
     "name": "stdout",
     "output_type": "stream",
     "text": [
      "('As Bhishma, I must admit that my actions of abducting the three princesses '\n",
      " 'were not justifiable. However, I did so with the intention of fulfilling my '\n",
      " 'duty towards my family and kingdom. My brother Vichitravirya was unable to '\n",
      " 'father a child and it was my responsibility to ensure that the Kuru dynasty '\n",
      " 'continued. Therefore, I abducted the princesses to marry them to my brother '\n",
      " 'and secure the future of our kingdom.\\n'\n",
      " '\\n'\n",
      " 'As for refusing to marry Amba, it was because she had already chosen King '\n",
      " 'Salwa as her husband and I did not want to force her into a marriage she did '\n",
      " 'not desire. However, I understand that my actions caused her great harm and '\n",
      " 'I deeply regret it. I tried to make amends by offering her to marry any of '\n",
      " 'my nephews, but she sought revenge against me instead.\\n'\n",
      " '\\n'\n",
      " 'I must admit that my actions were not in line with the principles of dharma '\n",
      " 'and I have suffered greatly for them. But as a guru and the wisest of all, I '\n",
      " 'have learned from my mistakes and strive to uphold righteousness in all my '\n",
      " 'actions.')\n"
     ]
    }
   ],
   "source": [
    "pp(response['result'])\n",
    "pyperclip.copy(response['result'])\n",
    "# pp(response['source_documents'])"
   ]
  },
  {
   "cell_type": "code",
   "execution_count": null,
   "metadata": {},
   "outputs": [],
   "source": [
    "for doc in response['source_documents']:\n",
    "    pp(doc.page_content)"
   ]
  },
  {
   "cell_type": "code",
   "execution_count": null,
   "metadata": {},
   "outputs": [],
   "source": []
  }
 ],
 "metadata": {
  "kernelspec": {
   "display_name": "OpenAI@3114",
   "language": "python",
   "name": "python3"
  },
  "language_info": {
   "codemirror_mode": {
    "name": "ipython",
    "version": 3
   },
   "file_extension": ".py",
   "mimetype": "text/x-python",
   "name": "python",
   "nbconvert_exporter": "python",
   "pygments_lexer": "ipython3",
   "version": "3.11.4"
  },
  "orig_nbformat": 4
 },
 "nbformat": 4,
 "nbformat_minor": 2
}
