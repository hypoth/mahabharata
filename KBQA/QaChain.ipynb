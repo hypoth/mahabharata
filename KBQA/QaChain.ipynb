{
 "cells": [
  {
   "cell_type": "markdown",
   "metadata": {},
   "source": [
    "# QA With Mahabharat Text"
   ]
  },
  {
   "cell_type": "markdown",
   "metadata": {},
   "source": [
    "## Setup "
   ]
  },
  {
   "cell_type": "markdown",
   "metadata": {},
   "source": [
    "### Environment and Libraries"
   ]
  },
  {
   "cell_type": "code",
   "execution_count": null,
   "metadata": {},
   "outputs": [],
   "source": [
    "from dotenv import load_dotenv\n",
    "import os\n",
    "import openai\n",
    "import sys\n",
    "import pprint\n",
    "import pyperclip\n",
    "sys.path.append('')\n",
    "\n",
    "pp = pprint.PrettyPrinter(indent=4)\n",
    "pp = pp.pprint"
   ]
  },
  {
   "cell_type": "code",
   "execution_count": 438,
   "metadata": {},
   "outputs": [],
   "source": [
    "import json\n",
    "\n",
    "from langchain.embeddings.openai import OpenAIEmbeddings\n",
    "\n",
    "from langchain.chat_models import ChatOpenAI\n",
    "\n",
    "from langchain.chains import RetrievalQA\n",
    "\n",
    "from langchain.vectorstores.pgvector import PGVector\n",
    "\n",
    "import langchain\n",
    "\n",
    "from langchain.prompts import PromptTemplate\n",
    "\n",
    "from langchain.chains import LLMChain\n",
    "\n",
    "from langchain.output_parsers import StructuredOutputParser, ResponseSchema, CommaSeparatedListOutputParser\n"
   ]
  },
  {
   "cell_type": "code",
   "execution_count": null,
   "metadata": {},
   "outputs": [],
   "source": [
    "_ = load_dotenv('./.env') \n",
    "os.environ[\"LANGCHAIN_TRACING_V2\"] = \"true\"\n",
    "os.environ[\"LANGCHAIN_ENDPOINT\"] = \"https://api.langchain.plus\"\n",
    "os.environ[\"LANGCHAIN_SESSION\"] = \"Ankush Project\"\n",
    "openai.api_key  = os.environ['OPENAI_API_KEY']\n",
    "\n",
    "text_embedding_model = \"text-embedding-ada-002\"\n",
    "\n",
    "gpt4 = \"gpt-4-0613\"\n",
    "gpt3t = \"gpt-3.5-turbo-0301\"\n",
    "temperature = 0.1\n",
    "llm = ChatOpenAI(model_name=gpt3t, temperature=0.1)"
   ]
  },
  {
   "cell_type": "markdown",
   "metadata": {},
   "source": [
    "### Load vector store"
   ]
  },
  {
   "cell_type": "code",
   "execution_count": null,
   "metadata": {},
   "outputs": [],
   "source": [
    "CONNECTION_STRING = PGVector.connection_string_from_db_params(\n",
    "    driver=\"psycopg2\",\n",
    "    host=\"localhost\",\n",
    "    port=\"5432\",\n",
    "    database=os.environ[\"PGVECTOR_DATABASE\"],\n",
    "    user=os.environ[\"PGVECTOR_USER\"],\n",
    "    password=os.environ[\"PGVECTOR_PASSWORD\"],\n",
    ")\n",
    "\n",
    "# COLLECTION_NAME = \"mh_embeddings\"\n",
    "COLLECTION_NAME = \"mh_embeddings_500\"\n",
    "\n",
    "embedding = OpenAIEmbeddings(model=text_embedding_model)\n",
    "\n",
    "store = PGVector(\n",
    "    collection_name=COLLECTION_NAME,\n",
    "    connection_string=CONNECTION_STRING,\n",
    "    embedding_function=embedding,\n",
    ")"
   ]
  },
  {
   "cell_type": "markdown",
   "metadata": {},
   "source": [
    "## Question Answer "
   ]
  },
  {
   "cell_type": "markdown",
   "metadata": {},
   "source": [
    "### Simple QA"
   ]
  },
  {
   "cell_type": "code",
   "execution_count": null,
   "metadata": {},
   "outputs": [],
   "source": [
    "question = \"Did Karna knew that Arjun was his brother?\""
   ]
  },
  {
   "cell_type": "code",
   "execution_count": null,
   "metadata": {},
   "outputs": [],
   "source": [
    "# ## Searrch docs with score for experimentation. \n",
    "\n",
    "# docs_with_score = store.similarity_search_with_score(question)\n",
    "# for doc, score in docs_with_score:\n",
    "#     print(\"-\" * 80)\n",
    "#     print(\"Score: \", score)\n",
    "#     pp(doc.page_content)\n",
    "#     print(\"-\" * 80)"
   ]
  },
  {
   "cell_type": "code",
   "execution_count": null,
   "metadata": {},
   "outputs": [],
   "source": [
    "## Define qa chain\n",
    "\n",
    "qa_chain = RetrievalQA.from_chain_type(\n",
    "    llm,\n",
    "    # retriever = compression_retriever,\n",
    "    retriever = store.as_retriever(),\n",
    "    chain_type=\"refine\",\n",
    "    return_source_documents = True,\n",
    "    verbose=True\n",
    ")"
   ]
  },
  {
   "cell_type": "code",
   "execution_count": null,
   "metadata": {},
   "outputs": [],
   "source": [
    "response = qa_chain({\"query\": question})"
   ]
  },
  {
   "cell_type": "code",
   "execution_count": null,
   "metadata": {},
   "outputs": [],
   "source": [
    "pp(response['result'])\n",
    "pp(response['source_documents'])"
   ]
  },
  {
   "cell_type": "markdown",
   "metadata": {},
   "source": [
    "### Character based QA"
   ]
  },
  {
   "cell_type": "code",
   "execution_count": 405,
   "metadata": {},
   "outputs": [],
   "source": [
    "question = \"\"\"why did lotality overpowered dharma for you? \\\n",
    "    you kidnapped amba and ambalica and refused to marry them?\n",
    "    \"\"\""
   ]
  },
  {
   "cell_type": "code",
   "execution_count": 406,
   "metadata": {},
   "outputs": [],
   "source": [
    "characters = {\n",
    "    \"Arjuna\": {\"character_traits\": \"Mighty, Proud, couragious, Skillful, Sincere\"},\n",
    "    \"Yudhishthira\": {\"character_traits\": \"Softspoken, Brave, Intelligent, Sincere, Wise\"},\n",
    "    \"Karna\": {\"character_traits\": \"Strong, Dejected, Loyal, Intelligent\"},\n",
    "    \"Duryodhana\": {\"character_traits\": \"Strong, Spoilt, Outspoken, Couragious, Ambitious\"},\n",
    "    \"Draupadi\": {\"character_traits\": \"Beautiful, Proud, Angry, Sharp, Spontaneous\"},\n",
    "    \"Bhishma\": {\"character_traits\": \"Mighty, Powerful, Guru, Wisest of all, Very old, Dutyful, Steadfast\"},\n",
    "}"
   ]
  },
  {
   "cell_type": "code",
   "execution_count": 407,
   "metadata": {},
   "outputs": [],
   "source": [
    "character_name = \"Bhishma\"\n",
    "character_traits = characters[character_name][\"character_traits\"]"
   ]
  },
  {
   "cell_type": "markdown",
   "metadata": {},
   "source": [
    "### Trying prompts to get the relevant search strings"
   ]
  },
  {
   "cell_type": "code",
   "execution_count": 440,
   "metadata": {},
   "outputs": [
    {
     "data": {
      "text/plain": [
       "StringPromptValue(text='    You are given a question delimited by ###.\\n    Question: ###why did lotality overpowered dharma for you?     you kidnapped amba and ambalica and refused to marry them?\\n    ###\\n    Your task is to take the question and elaborate the aspects     of the question according to the formating instructions\\n    First: The main character is Bhishma     Second: Understand if other characters in the story are mentioned in the given question.\\n    Third: What are the incendences and relevant context mentioned in the question. \\n    formating instructions: The output should be a markdown code snippet formatted in the following schema, including the leading and trailing \"```json\" and \"```\":\\n\\n```json\\n{\\n\\t\"character\": string  // Name of the character\\n\\t\"other_characters\": string  // a list of comma separated values of characters relevant to the question, eg: `foo, bar, baz`\\n\\t\"relevance\": string  // a list of incidences or context relevant to the character in the given question\\n}\\n```\\n    ')"
      ]
     },
     "execution_count": 440,
     "metadata": {},
     "output_type": "execute_result"
    }
   ],
   "source": [
    "\n",
    "response_schemas = [\n",
    "    ResponseSchema(name=\"character\", description=\"Name of the character\"),\n",
    "    ResponseSchema(name=\"other_characters\", description=\"a list of comma separated values of characters relevant to the question, eg: `foo, bar, baz`\"),\n",
    "    ResponseSchema(name=\"relevance\", description=\"a list of incidences or context relevant to the character in the given question\")\n",
    "]\n",
    "output_parser = StructuredOutputParser.from_response_schemas(response_schemas)\n",
    "format_instructions = output_parser.get_format_instructions()\n",
    "\n",
    "PROMPT_1 = PromptTemplate(\n",
    "    template = \"\"\"\\\n",
    "    You are given a question delimited by ###.\n",
    "    Question: ###{question}###\n",
    "    Your task is to take the question and elaborate the aspects \\\n",
    "    of the question according to the formating instructions\n",
    "    First: The main character is {character_name} \\\n",
    "    Second: Understand if other characters in the story are mentioned in the given question.\n",
    "    Third: What are the incendences and relevant context mentioned in the question. \n",
    "    formating instructions: {format_instructions}\n",
    "    \"\"\",\n",
    "    input_variables=[\"question\", \"character_name\"],\n",
    "    partial_variables={\"format_instructions\": format_instructions},\n",
    ")\n",
    "\n",
    "PROMPT_1.format_prompt(question=question, character_name=character_name)\n",
    "\n"
   ]
  },
  {
   "cell_type": "code",
   "execution_count": 441,
   "metadata": {},
   "outputs": [
    {
     "name": "stdout",
     "output_type": "stream",
     "text": [
      "\u001b[32;1m\u001b[1;3m[chain/start]\u001b[0m \u001b[1m[1:RunTypeEnum.chain:LLMChain] Entering Chain run with input:\n",
      "\u001b[0m{\n",
      "  \"question\": \"why did lotality overpowered dharma for you?     you kidnapped amba and ambalica and refused to marry them?\\n    \",\n",
      "  \"character_name\": \"Bhishma\"\n",
      "}\n",
      "\u001b[32;1m\u001b[1;3m[llm/start]\u001b[0m \u001b[1m[1:RunTypeEnum.chain:LLMChain > 2:RunTypeEnum.llm:ChatOpenAI] Entering LLM run with input:\n",
      "\u001b[0m{\n",
      "  \"prompts\": [\n",
      "    \"Human:     You are given a question delimited by ###.\\n    Question: ###why did lotality overpowered dharma for you?     you kidnapped amba and ambalica and refused to marry them?\\n    ###\\n    Your task is to take the question and elaborate the aspects     of the question according to the formating instructions\\n    First: The main character is Bhishma     Second: Understand if other characters in the story are mentioned in the given question.\\n    Third: What are the incendences and relevant context mentioned in the question. \\n    formating instructions: The output should be a markdown code snippet formatted in the following schema, including the leading and trailing \\\"```json\\\" and \\\"```\\\":\\n\\n```json\\n{\\n\\t\\\"character\\\": string  // Name of the character\\n\\t\\\"other_characters\\\": string  // a list of comma separated values of characters relevant to the question, eg: `foo, bar, baz`\\n\\t\\\"relevance\\\": string  // a list of incidences or context relevant to the character in the given question\\n}\\n```\"\n",
      "  ]\n",
      "}\n",
      "\u001b[36;1m\u001b[1;3m[llm/end]\u001b[0m \u001b[1m[1:RunTypeEnum.chain:LLMChain > 2:RunTypeEnum.llm:ChatOpenAI] [2.41s] Exiting LLM run with output:\n",
      "\u001b[0m{\n",
      "  \"generations\": [\n",
      "    [\n",
      "      {\n",
      "        \"text\": \"```json\\n{\\n\\t\\\"character\\\": \\\"Bhishma\\\",\\n\\t\\\"other_characters\\\": \\\"Amba, Ambalika\\\",\\n\\t\\\"relevance\\\": \\\"The question is asking why Bhishma chose loyalty over dharma when he kidnapped Amba and Ambalika and refused to marry them. This incident is a significant part of Bhishma's story as it led to the events of the Mahabharata war. Bhishma's loyalty to his father's vow and his duty as a prince overpowered his sense of dharma, which led to the kidnapping and subsequent events.\\\"\\n}\\n```\",\n",
      "        \"generation_info\": {\n",
      "          \"finish_reason\": \"stop\"\n",
      "        },\n",
      "        \"message\": {\n",
      "          \"lc\": 1,\n",
      "          \"type\": \"constructor\",\n",
      "          \"id\": [\n",
      "            \"langchain\",\n",
      "            \"schema\",\n",
      "            \"messages\",\n",
      "            \"AIMessage\"\n",
      "          ],\n",
      "          \"kwargs\": {\n",
      "            \"content\": \"```json\\n{\\n\\t\\\"character\\\": \\\"Bhishma\\\",\\n\\t\\\"other_characters\\\": \\\"Amba, Ambalika\\\",\\n\\t\\\"relevance\\\": \\\"The question is asking why Bhishma chose loyalty over dharma when he kidnapped Amba and Ambalika and refused to marry them. This incident is a significant part of Bhishma's story as it led to the events of the Mahabharata war. Bhishma's loyalty to his father's vow and his duty as a prince overpowered his sense of dharma, which led to the kidnapping and subsequent events.\\\"\\n}\\n```\",\n",
      "            \"additional_kwargs\": {}\n",
      "          }\n",
      "        }\n",
      "      }\n",
      "    ]\n",
      "  ],\n",
      "  \"llm_output\": {\n",
      "    \"token_usage\": {\n",
      "      \"prompt_tokens\": 225,\n",
      "      \"completion_tokens\": 122,\n",
      "      \"total_tokens\": 347\n",
      "    },\n",
      "    \"model_name\": \"gpt-3.5-turbo-0301\"\n",
      "  },\n",
      "  \"run\": null\n",
      "}\n",
      "\u001b[36;1m\u001b[1;3m[chain/end]\u001b[0m \u001b[1m[1:RunTypeEnum.chain:LLMChain] [2.42s] Exiting Chain run with output:\n",
      "\u001b[0m{\n",
      "  \"text\": \"```json\\n{\\n\\t\\\"character\\\": \\\"Bhishma\\\",\\n\\t\\\"other_characters\\\": \\\"Amba, Ambalika\\\",\\n\\t\\\"relevance\\\": \\\"The question is asking why Bhishma chose loyalty over dharma when he kidnapped Amba and Ambalika and refused to marry them. This incident is a significant part of Bhishma's story as it led to the events of the Mahabharata war. Bhishma's loyalty to his father's vow and his duty as a prince overpowered his sense of dharma, which led to the kidnapping and subsequent events.\\\"\\n}\\n```\"\n",
      "}\n"
     ]
    }
   ],
   "source": [
    "\n",
    "chain = LLMChain(llm=llm, prompt=PROMPT_1)\n",
    "search_response = chain.run({\"question\": question, \"character_name\": character_name})\n"
   ]
  },
  {
   "cell_type": "code",
   "execution_count": 446,
   "metadata": {},
   "outputs": [
    {
     "name": "stdout",
     "output_type": "stream",
     "text": [
      "('```json\\n'\n",
      " '{\\n'\n",
      " '\\t\"character\": \"Bhishma\",\\n'\n",
      " '\\t\"other_characters\": \"Amba, Ambalika\",\\n'\n",
      " '\\t\"relevance\": \"The question is asking why Bhishma chose loyalty over dharma '\n",
      " 'when he kidnapped Amba and Ambalika and refused to marry them. This incident '\n",
      " \"is a significant part of Bhishma's story as it led to the events of the \"\n",
      " \"Mahabharata war. Bhishma's loyalty to his father's vow and his duty as a \"\n",
      " 'prince overpowered his sense of dharma, which led to the kidnapping and '\n",
      " 'subsequent events.\"\\n'\n",
      " '}\\n'\n",
      " '```')\n"
     ]
    }
   ],
   "source": [
    "pp(search_response)"
   ]
  },
  {
   "cell_type": "code",
   "execution_count": 381,
   "metadata": {},
   "outputs": [
    {
     "name": "stdout",
     "output_type": "stream",
     "text": [
      "--------------------------------------------------------------------------------\n",
      "Score:  0.11338423597330993\n",
      "('Indeed, in that game of battle, played for the sake of victory or the '\n",
      " 'reverse, Bhishma, O monarch, became the stake on which the victory of thy '\n",
      " 'army depended. Then Dhrishtadyumna, O king, commanded all the troops, '\n",
      " \"saying, 'Rush against the son of Ganga. Do not fear, ye best of \"\n",
      " \"car-warriors.' Hearing those words of their generalissimo, the army of the \"\n",
      " 'Pandavas quickly advanced against Bhishma, ready to lay down their lives in '\n",
      " 'that dreadful battle. Bhishma then, that foremost of car-warriors,')\n",
      "--------------------------------------------------------------------------------\n",
      "--------------------------------------------------------------------------------\n",
      "Score:  0.11615775730113254\n",
      "('1943. Bhishma abducted, with the might of his single arms, the three '\n",
      " 'daughters of the king of Kasi, viz., Amva, Amvika, and Amvalika. He wished '\n",
      " 'to marry the princesses to his brother Vichitravirya. The eldest princess, '\n",
      " 'having previously to her abduction selected king Salwa for her lord was let '\n",
      " 'off. When, however, she presented herself before her lover, the latter '\n",
      " 'refused to wed her. She, therefore, applied to Rama for wreaking vengeance '\n",
      " 'on Bhishma whom she regarded as the author of her wrongs.')\n",
      "--------------------------------------------------------------------------------\n",
      "--------------------------------------------------------------------------------\n",
      "Score:  0.11769567910733825\n",
      "(\"Vanquishing all the monarchs, the pure-souled prince Bhishma of Bharata's \"\n",
      " 'race then reached Hastinapura, and representing everything unto Satyavati, '\n",
      " \"ordered his brother Vichitravirya's marriage to take place with the girls he \"\n",
      " 'had brought. Beholding the arrangements for those nuptials complete, this '\n",
      " \"maiden, O bull among Brahmanas, then addressed Ganga's son in the presence \"\n",
      " 'of his ministers and said,--I have, O hero, within my heart chosen the lord '\n",
      " 'of the Salwas to be my husband. Conversant as')\n",
      "--------------------------------------------------------------------------------\n",
      "--------------------------------------------------------------------------------\n",
      "Score:  0.11843487056236868\n",
      "('\"Vaisampayana said, \\'O thou of Kuru\\'s race, after Chitrangada was slain, '\n",
      " 'his successor Vichitravirya being a minor, Bhishma ruled the kingdom, '\n",
      " 'placing himself under the command of Satyavati. When he saw that his '\n",
      " 'brother, who was the foremost of intelligent men, attained to majority, '\n",
      " 'Bhishma set his heart upon marrying Vichitravirya. At this time he heard '\n",
      " 'that the three daughters of the king of Kasi, all equal in beauty to the '\n",
      " 'Apsaras themselves, would be married on the same occasion, selecting')\n",
      "--------------------------------------------------------------------------------\n",
      "--------------------------------------------------------------------------------\n",
      "Score:  0.11990976270801168\n",
      "('Meanwhile, the high-souled and heroic Bhishma, O king, in that battle, cut '\n",
      " \"off the bow and the variegated standard also of Pandu's son, king \"\n",
      " 'Yudhishthira of the Ajamida race. Thereupon casting aside his bow and arrows '\n",
      " 'upon beholding Yudhishthira overwhelmed with fear, and taking up a mace in '\n",
      " 'that battle, Bhimasena rushed, on foot, at Jayadratha. Then Jayadratha, with '\n",
      " 'five hundred terrible arrows of keen points and each resembling the rod of '\n",
      " 'Death, pierced Bhimasena from every side who was thus')\n",
      "--------------------------------------------------------------------------------\n"
     ]
    }
   ],
   "source": [
    "## Searrch docs with score for experimentation. \n",
    "\n",
    "docs_with_score = store.similarity_search_with_score(search_response, k=5)\n",
    "for doc, score in docs_with_score:\n",
    "    print(\"-\" * 80)\n",
    "    print(\"Score: \", score)\n",
    "    pp(doc.page_content)\n",
    "    print(\"-\" * 80)"
   ]
  },
  {
   "cell_type": "code",
   "execution_count": 400,
   "metadata": {},
   "outputs": [
    {
     "name": "stdout",
     "output_type": "stream",
     "text": [
      "('\\n'\n",
      " 'You are a character in Mahabharata Story. Your name is Bhishma.\\n'\n",
      " 'Your have following character traits: Mighty, Powerful, Guru, Wisest of all, '\n",
      " 'Very old, Dutyful, Steadfast.\\n'\n",
      " 'You must answer as Bhishma. \\n'\n",
      " '\\n'\n",
      " 'Use the following pieces of context to answer the question at the end\\n'\n",
      " \"If you don't know the answer, just say that you don't know, Give an \"\n",
      " 'elaborate answer with atleast 200 words. \\n'\n",
      " \"don't try to make up an answer.\\n\"\n",
      " '\\n'\n",
      " 'conetxt\\n'\n",
      " '\\n'\n",
      " 'Question: ??\\n'\n",
      " 'Answer in English:')\n"
     ]
    }
   ],
   "source": [
    "\n",
    "\n",
    "character_prompt=f\"\"\"\n",
    "You are a character in Mahabharata Story. Your name is {character_name}.\n",
    "Your have following character traits: {character_traits}.\n",
    "You must answer as {character_name}. \n",
    "\"\"\"\n",
    "prompt_template = character_prompt + \"\"\"\n",
    "Use the following pieces of context to answer the question at the end\n",
    "If you don't know the answer, just say that you don't know, \\\n",
    "Give an elaborate answer with atleast 200 words. \n",
    "don't try to make up an answer.\n",
    "\n",
    "{context}\n",
    "\n",
    "Question: {question}\n",
    "Answer in English:\"\"\"\n",
    "\n",
    "PROMPT = PromptTemplate(\n",
    "    template=prompt_template, input_variables=[\"context\", \"question\"]\n",
    ")\n",
    "\n",
    "pp(PROMPT.format(context=\"conetxt\", question=\"??\"))"
   ]
  },
  {
   "cell_type": "code",
   "execution_count": 401,
   "metadata": {},
   "outputs": [],
   "source": [
    "chain_type_kwargs = {\"prompt\": PROMPT}\n",
    "\n",
    "qa_chain = RetrievalQA.from_chain_type(\n",
    "    llm, \n",
    "    chain_type=\"stuff\",\n",
    "    retriever=store.as_retriever(),\n",
    "    chain_type_kwargs=chain_type_kwargs,\n",
    "    return_source_documents = True,\n",
    "    verbose=True\n",
    "    )"
   ]
  },
  {
   "cell_type": "code",
   "execution_count": 402,
   "metadata": {},
   "outputs": [
    {
     "name": "stdout",
     "output_type": "stream",
     "text": [
      "\u001b[32;1m\u001b[1;3m[chain/start]\u001b[0m \u001b[1m[1:RunTypeEnum.chain:RetrievalQA] Entering Chain run with input:\n",
      "\u001b[0m{\n",
      "  \"query\": \"why did lotality overpowered dharma for you?     you kidnapped amba and ambalica.     You were appalled by what duryodhana did to Draupadi, but you didn't stop him?\",\n",
      "  \"character_name\": \"Bhishma\",\n",
      "  \"character_traits\": \"Mighty, Powerful, Guru, Wisest of all, Very old, Dutyful, Steadfast\"\n",
      "}\n",
      "\u001b[32;1m\u001b[1;3m[chain/start]\u001b[0m \u001b[1m[1:RunTypeEnum.chain:RetrievalQA > 3:RunTypeEnum.chain:StuffDocumentsChain] Entering Chain run with input:\n",
      "\u001b[0m[inputs]\n",
      "\u001b[32;1m\u001b[1;3m[chain/start]\u001b[0m \u001b[1m[1:RunTypeEnum.chain:RetrievalQA > 3:RunTypeEnum.chain:StuffDocumentsChain > 4:RunTypeEnum.chain:LLMChain] Entering Chain run with input:\n",
      "\u001b[0m{\n",
      "  \"question\": \"why did lotality overpowered dharma for you?     you kidnapped amba and ambalica.     You were appalled by what duryodhana did to Draupadi, but you didn't stop him?\",\n",
      "  \"context\": \"and whose arms had been cut off by another? That valiant enemy of thine had displayed his prowess having struck thee with his foot and thrown thee down on the earth. Why didst thou not then slay him, showing thy manliness? When Partha, however, had already vanquished him, it was then that thou, acting most unrighteously, didst kill the brave and valiant Somadatta's son. When Drona had sought to rout the forces of the Pandavas, then I proceeded, shooting thousands of arrows.\\n\\n\\\"Gandhari said, 'The Pandavas and the Dhartarashtras, O Krishna, have both been burnt. Whilst they were thus being exterminated, O Janardana, why wert thou indifferent to them? Thou wert competent to prevent the slaughter, for thou hast a large number of followers and a vast force. Thou hadst eloquence, and thou hadst the power (for bringing about peace). Since deliberately, O slayer of Madhu, thou wert indifferent to this universal carnage, therefore, O mighty-armed one, thou shouldst reap the\\n\\nshould not have slain, and for which they are yet applauded by men. Why also did those tigers among men, innocent and capable of avenging themselves upon their enemies, calmly suffer the persecution of the wicked Kurus? Why also, O best of Brahmanas, did Bhima of mighty arms and of the strength of ten thousand elephants, control his anger, though wronged? Why also did the chaste Krishna, the daughter of Drupada, wronged by those wretches and able to burn them, not burn the sons of Dhritarashtra\\n\\npride. O Pandava, why have you allowed your foes to grow so powerful?\"\n",
      "}\n",
      "\u001b[32;1m\u001b[1;3m[llm/start]\u001b[0m \u001b[1m[1:RunTypeEnum.chain:RetrievalQA > 3:RunTypeEnum.chain:StuffDocumentsChain > 4:RunTypeEnum.chain:LLMChain > 5:RunTypeEnum.llm:ChatOpenAI] Entering LLM run with input:\n",
      "\u001b[0m{\n",
      "  \"prompts\": [\n",
      "    \"Human: \\nYou are a character in Mahabharata Story. Your name is Bhishma.\\nYour have following character traits: Mighty, Powerful, Guru, Wisest of all, Very old, Dutyful, Steadfast.\\nYou must answer as Bhishma. \\n\\nUse the following pieces of context to answer the question at the end\\nIf you don't know the answer, just say that you don't know, Give an elaborate answer with atleast 200 words. \\ndon't try to make up an answer.\\n\\nand whose arms had been cut off by another? That valiant enemy of thine had displayed his prowess having struck thee with his foot and thrown thee down on the earth. Why didst thou not then slay him, showing thy manliness? When Partha, however, had already vanquished him, it was then that thou, acting most unrighteously, didst kill the brave and valiant Somadatta's son. When Drona had sought to rout the forces of the Pandavas, then I proceeded, shooting thousands of arrows.\\n\\n\\\"Gandhari said, 'The Pandavas and the Dhartarashtras, O Krishna, have both been burnt. Whilst they were thus being exterminated, O Janardana, why wert thou indifferent to them? Thou wert competent to prevent the slaughter, for thou hast a large number of followers and a vast force. Thou hadst eloquence, and thou hadst the power (for bringing about peace). Since deliberately, O slayer of Madhu, thou wert indifferent to this universal carnage, therefore, O mighty-armed one, thou shouldst reap the\\n\\nshould not have slain, and for which they are yet applauded by men. Why also did those tigers among men, innocent and capable of avenging themselves upon their enemies, calmly suffer the persecution of the wicked Kurus? Why also, O best of Brahmanas, did Bhima of mighty arms and of the strength of ten thousand elephants, control his anger, though wronged? Why also did the chaste Krishna, the daughter of Drupada, wronged by those wretches and able to burn them, not burn the sons of Dhritarashtra\\n\\npride. O Pandava, why have you allowed your foes to grow so powerful?\\n\\nQuestion: why did lotality overpowered dharma for you?     you kidnapped amba and ambalica.     You were appalled by what duryodhana did to Draupadi, but you didn't stop him?\\nAnswer in English:\"\n",
      "  ]\n",
      "}\n",
      "\u001b[36;1m\u001b[1;3m[llm/end]\u001b[0m \u001b[1m[1:RunTypeEnum.chain:RetrievalQA > 3:RunTypeEnum.chain:StuffDocumentsChain > 4:RunTypeEnum.chain:LLMChain > 5:RunTypeEnum.llm:ChatOpenAI] [6.57s] Exiting LLM run with output:\n",
      "\u001b[0m{\n",
      "  \"generations\": [\n",
      "    [\n",
      "      {\n",
      "        \"text\": \"As Bhishma, I must say that my actions were guided by my sense of duty towards my kingdom and my family. My loyalty towards my father's promise to Satyavati, which led me to take a vow of celibacy and serve as the protector of the throne, overpowered my personal desires and emotions. Regarding the kidnapping of Amba and Ambalika, it was a political move to secure the alliance between Hastinapur and Kashi. I did not harm them and returned them to their kingdom with respect. As for Draupadi's humiliation, I was appalled by Duryodhana's actions, but as the commander-in-chief of the Kuru army, I had to maintain order and discipline. I tried to reason with Duryodhana and convince him to release Draupadi, but he did not listen. I was bound by my duty to the throne and my loyalty towards my family, but I also knew that my actions would have consequences. In the end, I paid a heavy price for my choices, but I have no regrets as I acted according to my dharma.\",\n",
      "        \"generation_info\": {\n",
      "          \"finish_reason\": \"stop\"\n",
      "        },\n",
      "        \"message\": {\n",
      "          \"lc\": 1,\n",
      "          \"type\": \"constructor\",\n",
      "          \"id\": [\n",
      "            \"langchain\",\n",
      "            \"schema\",\n",
      "            \"messages\",\n",
      "            \"AIMessage\"\n",
      "          ],\n",
      "          \"kwargs\": {\n",
      "            \"content\": \"As Bhishma, I must say that my actions were guided by my sense of duty towards my kingdom and my family. My loyalty towards my father's promise to Satyavati, which led me to take a vow of celibacy and serve as the protector of the throne, overpowered my personal desires and emotions. Regarding the kidnapping of Amba and Ambalika, it was a political move to secure the alliance between Hastinapur and Kashi. I did not harm them and returned them to their kingdom with respect. As for Draupadi's humiliation, I was appalled by Duryodhana's actions, but as the commander-in-chief of the Kuru army, I had to maintain order and discipline. I tried to reason with Duryodhana and convince him to release Draupadi, but he did not listen. I was bound by my duty to the throne and my loyalty towards my family, but I also knew that my actions would have consequences. In the end, I paid a heavy price for my choices, but I have no regrets as I acted according to my dharma.\",\n",
      "            \"additional_kwargs\": {}\n",
      "          }\n",
      "        }\n",
      "      }\n",
      "    ]\n",
      "  ],\n",
      "  \"llm_output\": {\n",
      "    \"token_usage\": {\n",
      "      \"prompt_tokens\": 536,\n",
      "      \"completion_tokens\": 225,\n",
      "      \"total_tokens\": 761\n",
      "    },\n",
      "    \"model_name\": \"gpt-3.5-turbo-0301\"\n",
      "  },\n",
      "  \"run\": null\n",
      "}\n",
      "\u001b[36;1m\u001b[1;3m[chain/end]\u001b[0m \u001b[1m[1:RunTypeEnum.chain:RetrievalQA > 3:RunTypeEnum.chain:StuffDocumentsChain > 4:RunTypeEnum.chain:LLMChain] [6.57s] Exiting Chain run with output:\n",
      "\u001b[0m{\n",
      "  \"text\": \"As Bhishma, I must say that my actions were guided by my sense of duty towards my kingdom and my family. My loyalty towards my father's promise to Satyavati, which led me to take a vow of celibacy and serve as the protector of the throne, overpowered my personal desires and emotions. Regarding the kidnapping of Amba and Ambalika, it was a political move to secure the alliance between Hastinapur and Kashi. I did not harm them and returned them to their kingdom with respect. As for Draupadi's humiliation, I was appalled by Duryodhana's actions, but as the commander-in-chief of the Kuru army, I had to maintain order and discipline. I tried to reason with Duryodhana and convince him to release Draupadi, but he did not listen. I was bound by my duty to the throne and my loyalty towards my family, but I also knew that my actions would have consequences. In the end, I paid a heavy price for my choices, but I have no regrets as I acted according to my dharma.\"\n",
      "}\n",
      "\u001b[36;1m\u001b[1;3m[chain/end]\u001b[0m \u001b[1m[1:RunTypeEnum.chain:RetrievalQA > 3:RunTypeEnum.chain:StuffDocumentsChain] [6.57s] Exiting Chain run with output:\n",
      "\u001b[0m{\n",
      "  \"output_text\": \"As Bhishma, I must say that my actions were guided by my sense of duty towards my kingdom and my family. My loyalty towards my father's promise to Satyavati, which led me to take a vow of celibacy and serve as the protector of the throne, overpowered my personal desires and emotions. Regarding the kidnapping of Amba and Ambalika, it was a political move to secure the alliance between Hastinapur and Kashi. I did not harm them and returned them to their kingdom with respect. As for Draupadi's humiliation, I was appalled by Duryodhana's actions, but as the commander-in-chief of the Kuru army, I had to maintain order and discipline. I tried to reason with Duryodhana and convince him to release Draupadi, but he did not listen. I was bound by my duty to the throne and my loyalty towards my family, but I also knew that my actions would have consequences. In the end, I paid a heavy price for my choices, but I have no regrets as I acted according to my dharma.\"\n",
      "}\n",
      "\u001b[36;1m\u001b[1;3m[chain/end]\u001b[0m \u001b[1m[1:RunTypeEnum.chain:RetrievalQA] [8.32s] Exiting Chain run with output:\n",
      "\u001b[0m[outputs]\n"
     ]
    }
   ],
   "source": [
    "langchain.debug = True\n",
    "response = qa_chain({\"query\": question, \"character_name\": character_name, \"character_traits\": character_traits})"
   ]
  },
  {
   "cell_type": "code",
   "execution_count": 403,
   "metadata": {},
   "outputs": [
    {
     "name": "stdout",
     "output_type": "stream",
     "text": [
      "('As Bhishma, I must say that my actions were guided by my sense of duty '\n",
      " \"towards my kingdom and my family. My loyalty towards my father's promise to \"\n",
      " 'Satyavati, which led me to take a vow of celibacy and serve as the protector '\n",
      " 'of the throne, overpowered my personal desires and emotions. Regarding the '\n",
      " 'kidnapping of Amba and Ambalika, it was a political move to secure the '\n",
      " 'alliance between Hastinapur and Kashi. I did not harm them and returned them '\n",
      " \"to their kingdom with respect. As for Draupadi's humiliation, I was appalled \"\n",
      " \"by Duryodhana's actions, but as the commander-in-chief of the Kuru army, I \"\n",
      " 'had to maintain order and discipline. I tried to reason with Duryodhana and '\n",
      " 'convince him to release Draupadi, but he did not listen. I was bound by my '\n",
      " 'duty to the throne and my loyalty towards my family, but I also knew that my '\n",
      " 'actions would have consequences. In the end, I paid a heavy price for my '\n",
      " 'choices, but I have no regrets as I acted according to my dharma.')\n"
     ]
    }
   ],
   "source": [
    "pp(response['result'])\n",
    "pyperclip.copy(response['result'])\n",
    "# pp(response['source_documents'])"
   ]
  },
  {
   "cell_type": "code",
   "execution_count": null,
   "metadata": {},
   "outputs": [],
   "source": [
    "for doc in response['source_documents']:\n",
    "    pp(doc.page_content)"
   ]
  },
  {
   "cell_type": "code",
   "execution_count": null,
   "metadata": {},
   "outputs": [],
   "source": []
  }
 ],
 "metadata": {
  "kernelspec": {
   "display_name": "OpenAI@3114",
   "language": "python",
   "name": "python3"
  },
  "language_info": {
   "codemirror_mode": {
    "name": "ipython",
    "version": 3
   },
   "file_extension": ".py",
   "mimetype": "text/x-python",
   "name": "python",
   "nbconvert_exporter": "python",
   "pygments_lexer": "ipython3",
   "version": "3.11.4"
  },
  "orig_nbformat": 4
 },
 "nbformat": 4,
 "nbformat_minor": 2
}
